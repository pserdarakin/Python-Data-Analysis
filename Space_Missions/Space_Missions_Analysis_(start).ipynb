{
 "cells": [
  {
   "cell_type": "markdown",
   "metadata": {
    "id": "ka_FkvXBiABo"
   },
   "source": [
    "# Introduction"
   ]
  },
  {
   "cell_type": "markdown",
   "metadata": {
    "id": "AWaMmfxXa-p0",
    "papermill": {
     "duration": 0.035434,
     "end_time": "2020-10-20T21:34:01.886225",
     "exception": false,
     "start_time": "2020-10-20T21:34:01.850791",
     "status": "completed"
    },
    "tags": []
   },
   "source": [
    "<center><img src=\"https://i.imgur.com/9hLRsjZ.jpg\" height=400></center>\n",
    "\n",
    "This dataset was scraped from [nextspaceflight.com](https://nextspaceflight.com/launches/past/?page=1) and includes all the space missions since the beginning of Space Race between the USA and the Soviet Union in 1957!"
   ]
  },
  {
   "cell_type": "markdown",
   "metadata": {
    "id": "ufzKRKS3bV0r"
   },
   "source": [
    "### Install Package with Country Codes"
   ]
  },
  {
   "cell_type": "code",
   "execution_count": 1,
   "metadata": {
    "colab": {
     "base_uri": "https://localhost:8080/"
    },
    "id": "0HxV9o6dbRUE",
    "outputId": "35464d43-d601-4b8f-81fd-6dbd400167f5"
   },
   "outputs": [
    {
     "name": "stdout",
     "output_type": "stream",
     "text": [
      "Collecting iso3166\n",
      "  Downloading iso3166-2.1.1-py3-none-any.whl (9.8 kB)\n",
      "Installing collected packages: iso3166\n",
      "Successfully installed iso3166-2.1.1\n",
      "Note: you may need to restart the kernel to use updated packages.\n"
     ]
    }
   ],
   "source": [
    "%pip install iso3166"
   ]
  },
  {
   "cell_type": "markdown",
   "metadata": {
    "id": "sghkhFoLbof8"
   },
   "source": [
    "### Upgrade Plotly\n",
    "\n",
    "Run the cell below if you are working with Google Colab."
   ]
  },
  {
   "cell_type": "code",
   "execution_count": 4,
   "metadata": {
    "colab": {
     "base_uri": "https://localhost:8080/"
    },
    "id": "gQ61wy9gbmxd",
    "outputId": "99185d87-acb8-4237-c0f7-bfb18bfd4d39"
   },
   "outputs": [
    {
     "name": "stdout",
     "output_type": "stream",
     "text": [
      "Collecting plotly\n",
      "  Downloading plotly-5.20.0-py3-none-any.whl (15.7 MB)\n",
      "\u001b[2K     \u001b[90m━━━━━━━━━━━━━━━━━━━━━━━━━━━━━━━━━━━━━━━━\u001b[0m \u001b[32m15.7/15.7 MB\u001b[0m \u001b[31m11.3 MB/s\u001b[0m eta \u001b[36m0:00:00\u001b[0m00:01\u001b[0m00:01\u001b[0m\n",
      "\u001b[?25hCollecting tenacity>=6.2.0\n",
      "  Downloading tenacity-8.2.3-py3-none-any.whl (24 kB)\n",
      "Requirement already satisfied: packaging in /Users/serdarakin/anaconda3/lib/python3.10/site-packages (from plotly) (23.0)\n",
      "Installing collected packages: tenacity, plotly\n",
      "Successfully installed plotly-5.20.0 tenacity-8.2.3\n",
      "Note: you may need to restart the kernel to use updated packages.\n"
     ]
    }
   ],
   "source": [
    "%pip install --upgrade plotly"
   ]
  },
  {
   "cell_type": "code",
   "execution_count": 2,
   "metadata": {},
   "outputs": [
    {
     "name": "stdout",
     "output_type": "stream",
     "text": [
      "Collecting pandas\n",
      "  Downloading pandas-2.2.1-cp310-cp310-macosx_11_0_arm64.whl (11.3 MB)\n",
      "\u001b[2K     \u001b[90m━━━━━━━━━━━━━━━━━━━━━━━━━━━━━━━━━━━━━━━━\u001b[0m \u001b[32m11.3/11.3 MB\u001b[0m \u001b[31m8.4 MB/s\u001b[0m eta \u001b[36m0:00:00\u001b[0m00:01\u001b[0m00:01\u001b[0mm\n",
      "\u001b[?25hRequirement already satisfied: python-dateutil>=2.8.2 in /Users/serdarakin/anaconda3/lib/python3.10/site-packages (from pandas) (2.8.2)\n",
      "Requirement already satisfied: pytz>=2020.1 in /Users/serdarakin/anaconda3/lib/python3.10/site-packages (from pandas) (2022.7)\n",
      "Requirement already satisfied: numpy<2,>=1.22.4 in /Users/serdarakin/anaconda3/lib/python3.10/site-packages (from pandas) (1.25.2)\n",
      "Collecting tzdata>=2022.7\n",
      "  Downloading tzdata-2024.1-py2.py3-none-any.whl (345 kB)\n",
      "\u001b[2K     \u001b[90m━━━━━━━━━━━━━━━━━━━━━━━━━━━━━━━━━━━━━━━\u001b[0m \u001b[32m345.4/345.4 kB\u001b[0m \u001b[31m6.7 MB/s\u001b[0m eta \u001b[36m0:00:00\u001b[0ma \u001b[36m0:00:01\u001b[0m\n",
      "\u001b[?25hRequirement already satisfied: six>=1.5 in /Users/serdarakin/anaconda3/lib/python3.10/site-packages (from python-dateutil>=2.8.2->pandas) (1.16.0)\n",
      "Installing collected packages: tzdata, pandas\n",
      "Successfully installed pandas-2.2.1 tzdata-2024.1\n",
      "Note: you may need to restart the kernel to use updated packages.\n"
     ]
    }
   ],
   "source": [
    "%pip install pandas"
   ]
  },
  {
   "cell_type": "code",
   "execution_count": 6,
   "metadata": {},
   "outputs": [
    {
     "name": "stdout",
     "output_type": "stream",
     "text": [
      "Collecting matplotlib\n",
      "  Downloading matplotlib-3.8.4-cp310-cp310-macosx_11_0_arm64.whl (7.5 MB)\n",
      "\u001b[2K     \u001b[90m━━━━━━━━━━━━━━━━━━━━━━━━━━━━━━━━━━━━━━━━\u001b[0m \u001b[32m7.5/7.5 MB\u001b[0m \u001b[31m11.3 MB/s\u001b[0m eta \u001b[36m0:00:00\u001b[0m00:01\u001b[0m00:01\u001b[0m\n",
      "\u001b[?25hRequirement already satisfied: python-dateutil>=2.7 in /Users/serdarakin/anaconda3/lib/python3.10/site-packages (from matplotlib) (2.8.2)\n",
      "Collecting cycler>=0.10\n",
      "  Using cached cycler-0.12.1-py3-none-any.whl (8.3 kB)\n",
      "Requirement already satisfied: packaging>=20.0 in /Users/serdarakin/anaconda3/lib/python3.10/site-packages (from matplotlib) (23.0)\n",
      "Requirement already satisfied: pillow>=8 in /Users/serdarakin/anaconda3/lib/python3.10/site-packages (from matplotlib) (9.4.0)\n",
      "Collecting kiwisolver>=1.3.1\n",
      "  Downloading kiwisolver-1.4.5-cp310-cp310-macosx_11_0_arm64.whl (66 kB)\n",
      "\u001b[2K     \u001b[90m━━━━━━━━━━━━━━━━━━━━━━━━━━━━━━━━━━━━━━━━\u001b[0m \u001b[32m66.2/66.2 kB\u001b[0m \u001b[31m3.2 MB/s\u001b[0m eta \u001b[36m0:00:00\u001b[0m\n",
      "\u001b[?25hCollecting contourpy>=1.0.1\n",
      "  Downloading contourpy-1.2.1-cp310-cp310-macosx_11_0_arm64.whl (244 kB)\n",
      "\u001b[2K     \u001b[90m━━━━━━━━━━━━━━━━━━━━━━━━━━━━━━━━━━━━━━━\u001b[0m \u001b[32m244.8/244.8 kB\u001b[0m \u001b[31m7.1 MB/s\u001b[0m eta \u001b[36m0:00:00\u001b[0m\n",
      "\u001b[?25hCollecting fonttools>=4.22.0\n",
      "  Downloading fonttools-4.51.0-cp310-cp310-macosx_10_9_universal2.whl (2.8 MB)\n",
      "\u001b[2K     \u001b[90m━━━━━━━━━━━━━━━━━━━━━━━━━━━━━━━━━━━━━━━━\u001b[0m \u001b[32m2.8/2.8 MB\u001b[0m \u001b[31m19.0 MB/s\u001b[0m eta \u001b[36m0:00:00\u001b[0ma \u001b[36m0:00:01\u001b[0m\n",
      "\u001b[?25hCollecting pyparsing>=2.3.1\n",
      "  Using cached pyparsing-3.1.2-py3-none-any.whl (103 kB)\n",
      "Requirement already satisfied: numpy>=1.21 in /Users/serdarakin/anaconda3/lib/python3.10/site-packages (from matplotlib) (1.25.2)\n",
      "Requirement already satisfied: six>=1.5 in /Users/serdarakin/anaconda3/lib/python3.10/site-packages (from python-dateutil>=2.7->matplotlib) (1.16.0)\n",
      "Installing collected packages: pyparsing, kiwisolver, fonttools, cycler, contourpy, matplotlib\n",
      "Successfully installed contourpy-1.2.1 cycler-0.12.1 fonttools-4.51.0 kiwisolver-1.4.5 matplotlib-3.8.4 pyparsing-3.1.2\n",
      "Note: you may need to restart the kernel to use updated packages.\n"
     ]
    }
   ],
   "source": [
    "%pip install matplotlib"
   ]
  },
  {
   "cell_type": "code",
   "execution_count": 8,
   "metadata": {},
   "outputs": [
    {
     "name": "stdout",
     "output_type": "stream",
     "text": [
      "Collecting seaborn\n",
      "  Downloading seaborn-0.13.2-py3-none-any.whl (294 kB)\n",
      "\u001b[2K     \u001b[90m━━━━━━━━━━━━━━━━━━━━━━━━━━━━━━━━━━━━━━━\u001b[0m \u001b[32m294.9/294.9 kB\u001b[0m \u001b[31m2.1 MB/s\u001b[0m eta \u001b[36m0:00:00\u001b[0ma \u001b[36m0:00:01\u001b[0m\n",
      "\u001b[?25hRequirement already satisfied: pandas>=1.2 in /Users/serdarakin/anaconda3/lib/python3.10/site-packages (from seaborn) (2.2.1)\n",
      "Requirement already satisfied: numpy!=1.24.0,>=1.20 in /Users/serdarakin/anaconda3/lib/python3.10/site-packages (from seaborn) (1.25.2)\n",
      "Requirement already satisfied: matplotlib!=3.6.1,>=3.4 in /Users/serdarakin/anaconda3/lib/python3.10/site-packages (from seaborn) (3.8.4)\n",
      "Requirement already satisfied: pyparsing>=2.3.1 in /Users/serdarakin/anaconda3/lib/python3.10/site-packages (from matplotlib!=3.6.1,>=3.4->seaborn) (3.1.2)\n",
      "Requirement already satisfied: pillow>=8 in /Users/serdarakin/anaconda3/lib/python3.10/site-packages (from matplotlib!=3.6.1,>=3.4->seaborn) (9.4.0)\n",
      "Requirement already satisfied: packaging>=20.0 in /Users/serdarakin/anaconda3/lib/python3.10/site-packages (from matplotlib!=3.6.1,>=3.4->seaborn) (23.0)\n",
      "Requirement already satisfied: fonttools>=4.22.0 in /Users/serdarakin/anaconda3/lib/python3.10/site-packages (from matplotlib!=3.6.1,>=3.4->seaborn) (4.51.0)\n",
      "Requirement already satisfied: kiwisolver>=1.3.1 in /Users/serdarakin/anaconda3/lib/python3.10/site-packages (from matplotlib!=3.6.1,>=3.4->seaborn) (1.4.5)\n",
      "Requirement already satisfied: cycler>=0.10 in /Users/serdarakin/anaconda3/lib/python3.10/site-packages (from matplotlib!=3.6.1,>=3.4->seaborn) (0.12.1)\n",
      "Requirement already satisfied: python-dateutil>=2.7 in /Users/serdarakin/anaconda3/lib/python3.10/site-packages (from matplotlib!=3.6.1,>=3.4->seaborn) (2.8.2)\n",
      "Requirement already satisfied: contourpy>=1.0.1 in /Users/serdarakin/anaconda3/lib/python3.10/site-packages (from matplotlib!=3.6.1,>=3.4->seaborn) (1.2.1)\n",
      "Requirement already satisfied: tzdata>=2022.7 in /Users/serdarakin/anaconda3/lib/python3.10/site-packages (from pandas>=1.2->seaborn) (2024.1)\n",
      "Requirement already satisfied: pytz>=2020.1 in /Users/serdarakin/anaconda3/lib/python3.10/site-packages (from pandas>=1.2->seaborn) (2022.7)\n",
      "Requirement already satisfied: six>=1.5 in /Users/serdarakin/anaconda3/lib/python3.10/site-packages (from python-dateutil>=2.7->matplotlib!=3.6.1,>=3.4->seaborn) (1.16.0)\n",
      "Installing collected packages: seaborn\n",
      "Successfully installed seaborn-0.13.2\n",
      "Note: you may need to restart the kernel to use updated packages.\n"
     ]
    }
   ],
   "source": [
    "%pip install seaborn"
   ]
  },
  {
   "cell_type": "markdown",
   "metadata": {
    "id": "ErFDBihUi1jN"
   },
   "source": [
    "### Import Statements"
   ]
  },
  {
   "cell_type": "code",
   "execution_count": 12,
   "metadata": {
    "_cell_guid": "b1076dfc-b9ad-4769-8c92-a6c4dae69d19",
    "_kg_hide-input": true,
    "_kg_hide-output": true,
    "_uuid": "8f2839f25d086af736a60e9eeb907d3b93b6e0e5",
    "colab": {
     "base_uri": "https://localhost:8080/"
    },
    "id": "xdolY0-Sa-p1",
    "outputId": "7142dedb-82e9-457d-db44-cea4e121bdfe",
    "papermill": {
     "duration": 1.665326,
     "end_time": "2020-10-20T21:34:03.726995",
     "exception": false,
     "start_time": "2020-10-20T21:34:02.061669",
     "status": "completed"
    },
    "tags": []
   },
   "outputs": [],
   "source": [
    "import numpy as np\n",
    "import pandas as pd\n",
    "import plotly.express as px\n",
    "import matplotlib.pyplot as plt\n",
    "import seaborn as sns\n",
    "\n",
    "# These might be helpful:\n",
    "from iso3166 import countries\n",
    "from datetime import datetime, timedelta"
   ]
  },
  {
   "cell_type": "markdown",
   "metadata": {
    "id": "lovGPRgKxIgo"
   },
   "source": [
    "### Notebook Presentation"
   ]
  },
  {
   "cell_type": "code",
   "execution_count": 13,
   "metadata": {
    "id": "DHEULCOjxIIm"
   },
   "outputs": [],
   "source": [
    "pd.options.display.float_format = '{:,.2f}'.format"
   ]
  },
  {
   "cell_type": "markdown",
   "metadata": {
    "id": "yaT3QbjEa-p4",
    "papermill": {
     "duration": 0.034606,
     "end_time": "2020-10-20T21:34:03.798396",
     "exception": false,
     "start_time": "2020-10-20T21:34:03.763790",
     "status": "completed"
    },
    "tags": []
   },
   "source": [
    "### Load the Data"
   ]
  },
  {
   "cell_type": "code",
   "execution_count": 14,
   "metadata": {
    "_cell_guid": "79c7e3d0-c299-4dcb-8224-4455121ee9b0",
    "_kg_hide-input": true,
    "_uuid": "d629ff2d2480ee46fbb7e2d37f6b5fab8052498a",
    "id": "0lDOu8aka-p4",
    "papermill": {
     "duration": 0.08876,
     "end_time": "2020-10-20T21:34:03.922028",
     "exception": false,
     "start_time": "2020-10-20T21:34:03.833268",
     "status": "completed"
    },
    "tags": []
   },
   "outputs": [],
   "source": [
    "df_data = pd.read_csv('mission_launches.csv')"
   ]
  },
  {
   "cell_type": "markdown",
   "metadata": {
    "id": "jAnMiVcVjuKB"
   },
   "source": [
    "# Preliminary Data Exploration\n",
    "\n",
    "* What is the shape of `df_data`? \n",
    "* How many rows and columns does it have?\n",
    "* What are the column names?\n",
    "* Are there any NaN values or duplicates?"
   ]
  },
  {
   "cell_type": "code",
   "execution_count": 15,
   "metadata": {
    "id": "0tIuYcYNlPFQ"
   },
   "outputs": [],
   "source": [
    "df = pd.DataFrame(df_data)"
   ]
  },
  {
   "cell_type": "code",
   "execution_count": 16,
   "metadata": {
    "id": "0dw2hd9UlPmP"
   },
   "outputs": [
    {
     "name": "stdout",
     "output_type": "stream",
     "text": [
      "(4324, 9)\n"
     ]
    }
   ],
   "source": [
    "shape = df.shape\n",
    "print(shape)"
   ]
  },
  {
   "cell_type": "code",
   "execution_count": 17,
   "metadata": {},
   "outputs": [
    {
     "name": "stdout",
     "output_type": "stream",
     "text": [
      "Unnamed: 0.1\n",
      "Unnamed: 0\n",
      "Organisation\n",
      "Location\n",
      "Date\n",
      "Detail\n",
      "Rocket_Status\n",
      "Price\n",
      "Mission_Status\n"
     ]
    }
   ],
   "source": [
    "# Column Names\n",
    "for col in df.columns:\n",
    "    print(col)"
   ]
  },
  {
   "cell_type": "code",
   "execution_count": 18,
   "metadata": {},
   "outputs": [
    {
     "data": {
      "text/plain": [
       "True"
      ]
     },
     "execution_count": 18,
     "metadata": {},
     "output_type": "execute_result"
    }
   ],
   "source": [
    "df.isnull().values.any()"
   ]
  },
  {
   "cell_type": "markdown",
   "metadata": {
    "id": "KUN30y6ja-p9",
    "papermill": {
     "duration": 0.05406,
     "end_time": "2020-10-20T21:34:04.149973",
     "exception": false,
     "start_time": "2020-10-20T21:34:04.095913",
     "status": "completed"
    },
    "tags": []
   },
   "source": [
    "## Data Cleaning - Check for Missing Values and Duplicates\n",
    "\n",
    "Consider removing columns containing junk data. "
   ]
  },
  {
   "cell_type": "code",
   "execution_count": 19,
   "metadata": {
    "id": "wWQvnJb0k2Ig"
   },
   "outputs": [],
   "source": [
    "df.dropna(inplace=True)"
   ]
  },
  {
   "cell_type": "code",
   "execution_count": 21,
   "metadata": {
    "id": "SfxVooCYk2As"
   },
   "outputs": [
    {
     "name": "stdout",
     "output_type": "stream",
     "text": [
      "0       False\n",
      "1       False\n",
      "3       False\n",
      "4       False\n",
      "5       False\n",
      "        ...  \n",
      "3855    False\n",
      "3971    False\n",
      "3993    False\n",
      "4000    False\n",
      "4020    False\n",
      "Length: 964, dtype: bool\n"
     ]
    }
   ],
   "source": [
    "print(df.duplicated())"
   ]
  },
  {
   "cell_type": "markdown",
   "metadata": {
    "id": "QHon_T5sa-p_",
    "papermill": {
     "duration": 0.036712,
     "end_time": "2020-10-20T21:34:05.227032",
     "exception": false,
     "start_time": "2020-10-20T21:34:05.190320",
     "status": "completed"
    },
    "tags": []
   },
   "source": [
    "## Descriptive Statistics"
   ]
  },
  {
   "cell_type": "code",
   "execution_count": null,
   "metadata": {
    "id": "Fh1-libjkJIK"
   },
   "outputs": [],
   "source": []
  },
  {
   "cell_type": "code",
   "execution_count": null,
   "metadata": {
    "id": "dGZa5HdbkJBT"
   },
   "outputs": [],
   "source": []
  },
  {
   "cell_type": "markdown",
   "metadata": {
    "id": "cgCjcpeUkKPW"
   },
   "source": [
    "# Number of Launches per Company\n",
    "\n",
    "Create a chart that shows the number of space mission launches by organisation."
   ]
  },
  {
   "cell_type": "code",
   "execution_count": null,
   "metadata": {
    "id": "rxvcIrtskxYB"
   },
   "outputs": [],
   "source": []
  },
  {
   "cell_type": "code",
   "execution_count": null,
   "metadata": {
    "id": "qgneHUbWkw5v"
   },
   "outputs": [],
   "source": []
  },
  {
   "cell_type": "markdown",
   "metadata": {
    "id": "7Gwteht2kR_h"
   },
   "source": [
    "# Number of Active versus Retired Rockets\n",
    "\n",
    "How many rockets are active compared to those that are decomissioned? "
   ]
  },
  {
   "cell_type": "code",
   "execution_count": null,
   "metadata": {
    "id": "SxmOWS9cmTq6"
   },
   "outputs": [],
   "source": []
  },
  {
   "cell_type": "code",
   "execution_count": null,
   "metadata": {
    "id": "ydj0-OZ6mToH"
   },
   "outputs": [],
   "source": []
  },
  {
   "cell_type": "markdown",
   "metadata": {
    "id": "y9WtP5xWkYkp"
   },
   "source": [
    "# Distribution of Mission Status\n",
    "\n",
    "How many missions were successful?\n",
    "How many missions failed?"
   ]
  },
  {
   "cell_type": "code",
   "execution_count": null,
   "metadata": {
    "id": "83kY1alqmUhb"
   },
   "outputs": [],
   "source": []
  },
  {
   "cell_type": "code",
   "execution_count": null,
   "metadata": {
    "id": "bdmXcaopmUeZ"
   },
   "outputs": [],
   "source": []
  },
  {
   "cell_type": "markdown",
   "metadata": {
    "id": "jgTCihuoa-qH",
    "papermill": {
     "duration": 0.03854,
     "end_time": "2020-10-20T21:34:05.968626",
     "exception": false,
     "start_time": "2020-10-20T21:34:05.930086",
     "status": "completed"
    },
    "tags": []
   },
   "source": [
    "# How Expensive are the Launches? \n",
    "\n",
    "Create a histogram and visualise the distribution. The price column is given in USD millions (careful of missing values). "
   ]
  },
  {
   "cell_type": "code",
   "execution_count": null,
   "metadata": {
    "id": "PLOMhzZFnSCO"
   },
   "outputs": [],
   "source": []
  },
  {
   "cell_type": "code",
   "execution_count": null,
   "metadata": {
    "id": "ru0IcY4nnSFU"
   },
   "outputs": [],
   "source": []
  },
  {
   "cell_type": "markdown",
   "metadata": {
    "id": "QiNtigQDne3E"
   },
   "source": [
    "# Use a Choropleth Map to Show the Number of Launches by Country\n",
    "\n",
    "* Create a choropleth map using [the plotly documentation](https://plotly.com/python/choropleth-maps/)\n",
    "* Experiment with [plotly's available colours](https://plotly.com/python/builtin-colorscales/). I quite like the sequential colour `matter` on this map. \n",
    "* You'll need to extract a `country` feature as well as change the country names that no longer exist.\n",
    "\n",
    "Wrangle the Country Names\n",
    "\n",
    "You'll need to use a 3 letter country code for each country. You might have to change some country names.\n",
    "\n",
    "* Russia is the Russian Federation\n",
    "* New Mexico should be USA\n",
    "* Yellow Sea refers to China\n",
    "* Shahrud Missile Test Site should be Iran\n",
    "* Pacific Missile Range Facility should be USA\n",
    "* Barents Sea should be Russian Federation\n",
    "* Gran Canaria should be USA\n",
    "\n",
    "\n",
    "You can use the iso3166 package to convert the country names to Alpha3 format."
   ]
  },
  {
   "cell_type": "code",
   "execution_count": null,
   "metadata": {
    "id": "Y46-4GHrozhF"
   },
   "outputs": [],
   "source": []
  },
  {
   "cell_type": "code",
   "execution_count": null,
   "metadata": {
    "id": "ESGRWiX6ozZG"
   },
   "outputs": [],
   "source": []
  },
  {
   "cell_type": "markdown",
   "metadata": {
    "id": "F3pwYSUlo_AK"
   },
   "source": [
    "# Use a Choropleth Map to Show the Number of Failures by Country\n"
   ]
  },
  {
   "cell_type": "code",
   "execution_count": null,
   "metadata": {
    "id": "8BH4ICtro9I0"
   },
   "outputs": [],
   "source": []
  },
  {
   "cell_type": "code",
   "execution_count": null,
   "metadata": {
    "id": "sfw-q7Obo9GM"
   },
   "outputs": [],
   "source": []
  },
  {
   "cell_type": "markdown",
   "metadata": {
    "id": "9LqcqSrKa-qN",
    "papermill": {
     "duration": 0.039343,
     "end_time": "2020-10-20T21:34:06.591694",
     "exception": false,
     "start_time": "2020-10-20T21:34:06.552351",
     "status": "completed"
    },
    "tags": []
   },
   "source": [
    "# Create a Plotly Sunburst Chart of the countries, organisations, and mission status. "
   ]
  },
  {
   "cell_type": "code",
   "execution_count": null,
   "metadata": {
    "id": "MwUfpoByo3_J"
   },
   "outputs": [],
   "source": []
  },
  {
   "cell_type": "code",
   "execution_count": null,
   "metadata": {
    "id": "-ZwZkx1ro4X9"
   },
   "outputs": [],
   "source": []
  },
  {
   "cell_type": "code",
   "execution_count": null,
   "metadata": {
    "id": "VfTGp2hLo4Ok"
   },
   "outputs": [],
   "source": []
  },
  {
   "cell_type": "markdown",
   "metadata": {
    "id": "70pG1BCZa-qY",
    "papermill": {
     "duration": 0.062712,
     "end_time": "2020-10-20T21:34:07.951200",
     "exception": false,
     "start_time": "2020-10-20T21:34:07.888488",
     "status": "completed"
    },
    "tags": []
   },
   "source": [
    "# Analyse the Total Amount of Money Spent by Organisation on Space Missions"
   ]
  },
  {
   "cell_type": "code",
   "execution_count": null,
   "metadata": {
    "id": "IaJYxwEVpKHy"
   },
   "outputs": [],
   "source": []
  },
  {
   "cell_type": "code",
   "execution_count": null,
   "metadata": {
    "id": "orIFf-appPDL"
   },
   "outputs": [],
   "source": []
  },
  {
   "cell_type": "code",
   "execution_count": null,
   "metadata": {
    "id": "86OMPfpEpO7R"
   },
   "outputs": [],
   "source": []
  },
  {
   "cell_type": "markdown",
   "metadata": {
    "id": "DpsWkPxzpPXs"
   },
   "source": [
    "# Analyse the Amount of Money Spent by Organisation per Launch"
   ]
  },
  {
   "cell_type": "code",
   "execution_count": null,
   "metadata": {
    "id": "opYJ6GiRpTk5"
   },
   "outputs": [],
   "source": []
  },
  {
   "cell_type": "code",
   "execution_count": null,
   "metadata": {
    "id": "VEkHzAk2pTvj"
   },
   "outputs": [],
   "source": []
  },
  {
   "cell_type": "code",
   "execution_count": null,
   "metadata": {
    "id": "R5rFf501pKXD"
   },
   "outputs": [],
   "source": []
  },
  {
   "cell_type": "markdown",
   "metadata": {
    "id": "yRa1BbPoa-qf",
    "papermill": {
     "duration": 0.042662,
     "end_time": "2020-10-20T21:34:09.943196",
     "exception": false,
     "start_time": "2020-10-20T21:34:09.900534",
     "status": "completed"
    },
    "tags": []
   },
   "source": [
    "# Chart the Number of Launches per Year"
   ]
  },
  {
   "cell_type": "code",
   "execution_count": null,
   "metadata": {
    "id": "_9FohVh3pcAJ"
   },
   "outputs": [],
   "source": []
  },
  {
   "cell_type": "code",
   "execution_count": null,
   "metadata": {
    "id": "b2pggcZBpb4x"
   },
   "outputs": [],
   "source": []
  },
  {
   "cell_type": "markdown",
   "metadata": {
    "id": "NomJVLi3tIaM"
   },
   "source": [
    "# Chart the Number of Launches Month-on-Month until the Present\n",
    "\n",
    "Which month has seen the highest number of launches in all time? Superimpose a rolling average on the month on month time series chart. "
   ]
  },
  {
   "cell_type": "code",
   "execution_count": null,
   "metadata": {
    "id": "H1N2aBs5tH9z"
   },
   "outputs": [],
   "source": []
  },
  {
   "cell_type": "code",
   "execution_count": null,
   "metadata": {
    "id": "pfw0aX1lpdRv"
   },
   "outputs": [],
   "source": []
  },
  {
   "cell_type": "markdown",
   "metadata": {
    "id": "t-avMIZoa-qh",
    "papermill": {
     "duration": 0.044409,
     "end_time": "2020-10-20T21:34:10.162592",
     "exception": false,
     "start_time": "2020-10-20T21:34:10.118183",
     "status": "completed"
    },
    "tags": []
   },
   "source": [
    "# Launches per Month: Which months are most popular and least popular for launches?\n",
    "\n",
    "Some months have better weather than others. Which time of year seems to be best for space missions?"
   ]
  },
  {
   "cell_type": "code",
   "execution_count": null,
   "metadata": {
    "id": "zmtp5uBHppFG"
   },
   "outputs": [],
   "source": []
  },
  {
   "cell_type": "code",
   "execution_count": null,
   "metadata": {
    "id": "fnk2m_cpppJo"
   },
   "outputs": [],
   "source": []
  },
  {
   "cell_type": "markdown",
   "metadata": {
    "id": "dPQ_N_sfa-qo",
    "papermill": {
     "duration": 0.067915,
     "end_time": "2020-10-20T21:34:11.122539",
     "exception": false,
     "start_time": "2020-10-20T21:34:11.054624",
     "status": "completed"
    },
    "tags": []
   },
   "source": [
    "# How has the Launch Price varied Over Time? \n",
    "\n",
    "Create a line chart that shows the average price of rocket launches over time. "
   ]
  },
  {
   "cell_type": "code",
   "execution_count": null,
   "metadata": {
    "id": "hFc-2M5-qCrv"
   },
   "outputs": [],
   "source": []
  },
  {
   "cell_type": "code",
   "execution_count": null,
   "metadata": {
    "id": "ggYFiAsEqC6J"
   },
   "outputs": [],
   "source": []
  },
  {
   "cell_type": "markdown",
   "metadata": {
    "id": "8OYrWyiOa-qs",
    "papermill": {
     "duration": 0.047152,
     "end_time": "2020-10-20T21:34:11.681371",
     "exception": false,
     "start_time": "2020-10-20T21:34:11.634219",
     "status": "completed"
    },
    "tags": []
   },
   "source": [
    "# Chart the Number of Launches over Time by the Top 10 Organisations. \n",
    "\n",
    "How has the dominance of launches changed over time between the different players? "
   ]
  },
  {
   "cell_type": "code",
   "execution_count": null,
   "metadata": {
    "id": "RcsrPPpAqVFj"
   },
   "outputs": [],
   "source": []
  },
  {
   "cell_type": "code",
   "execution_count": null,
   "metadata": {
    "id": "1IgfafiyqWEe"
   },
   "outputs": [],
   "source": []
  },
  {
   "cell_type": "code",
   "execution_count": null,
   "metadata": {
    "id": "akCDKT8CqVjG"
   },
   "outputs": [],
   "source": []
  },
  {
   "cell_type": "markdown",
   "metadata": {
    "id": "6Cm8_ch6a-q7",
    "papermill": {
     "duration": 0.052399,
     "end_time": "2020-10-20T21:34:13.756781",
     "exception": false,
     "start_time": "2020-10-20T21:34:13.704382",
     "status": "completed"
    },
    "tags": []
   },
   "source": [
    "# Cold War Space Race: USA vs USSR\n",
    "\n",
    "The cold war lasted from the start of the dataset up until 1991. "
   ]
  },
  {
   "cell_type": "code",
   "execution_count": null,
   "metadata": {
    "id": "AcE_U8csrICL"
   },
   "outputs": [],
   "source": []
  },
  {
   "cell_type": "code",
   "execution_count": null,
   "metadata": {
    "id": "cOe_t4OmrHr9"
   },
   "outputs": [],
   "source": []
  },
  {
   "cell_type": "markdown",
   "metadata": {
    "id": "Os-3A5vLa-q9",
    "papermill": {
     "duration": 0.054318,
     "end_time": "2020-10-20T21:34:14.089604",
     "exception": false,
     "start_time": "2020-10-20T21:34:14.035286",
     "status": "completed"
    },
    "tags": []
   },
   "source": [
    "## Create a Plotly Pie Chart comparing the total number of launches of the USSR and the USA\n",
    "\n",
    "Hint: Remember to include former Soviet Republics like Kazakhstan when analysing the total number of launches. "
   ]
  },
  {
   "cell_type": "code",
   "execution_count": null,
   "metadata": {
    "id": "1irc6_W9rD59"
   },
   "outputs": [],
   "source": []
  },
  {
   "cell_type": "code",
   "execution_count": null,
   "metadata": {
    "id": "OhhuLQycrEE-"
   },
   "outputs": [],
   "source": []
  },
  {
   "cell_type": "markdown",
   "metadata": {
    "id": "0C29Zz4xa-rA",
    "papermill": {
     "duration": 0.052921,
     "end_time": "2020-10-20T21:34:14.340085",
     "exception": false,
     "start_time": "2020-10-20T21:34:14.287164",
     "status": "completed"
    },
    "tags": []
   },
   "source": [
    "## Create a Chart that Shows the Total Number of Launches Year-On-Year by the Two Superpowers"
   ]
  },
  {
   "cell_type": "code",
   "execution_count": null,
   "metadata": {
    "id": "9ISKvOiCrS73"
   },
   "outputs": [],
   "source": []
  },
  {
   "cell_type": "code",
   "execution_count": null,
   "metadata": {
    "id": "oCc7VTzGrTK-"
   },
   "outputs": [],
   "source": []
  },
  {
   "cell_type": "markdown",
   "metadata": {
    "id": "eWv4iZmra-rE",
    "papermill": {
     "duration": 0.079311,
     "end_time": "2020-10-20T21:34:14.933058",
     "exception": false,
     "start_time": "2020-10-20T21:34:14.853747",
     "status": "completed"
    },
    "tags": []
   },
   "source": [
    "## Chart the Total Number of Mission Failures Year on Year."
   ]
  },
  {
   "cell_type": "code",
   "execution_count": null,
   "metadata": {
    "id": "I-Zss5-Mre-4"
   },
   "outputs": [],
   "source": []
  },
  {
   "cell_type": "code",
   "execution_count": null,
   "metadata": {
    "id": "7Ps9Iq_crfYl"
   },
   "outputs": [],
   "source": []
  },
  {
   "cell_type": "markdown",
   "metadata": {
    "id": "XNp-NkrJriEF"
   },
   "source": [
    "## Chart the Percentage of Failures over Time\n",
    "\n",
    "Did failures go up or down over time? Did the countries get better at minimising risk and improving their chances of success over time? "
   ]
  },
  {
   "cell_type": "code",
   "execution_count": null,
   "metadata": {
    "id": "Kj3-zsI0rhOS"
   },
   "outputs": [],
   "source": []
  },
  {
   "cell_type": "code",
   "execution_count": null,
   "metadata": {
    "id": "nxnnzx89rwvH"
   },
   "outputs": [],
   "source": []
  },
  {
   "cell_type": "code",
   "execution_count": null,
   "metadata": {
    "id": "_TPWaaJ5r1Fz"
   },
   "outputs": [],
   "source": []
  },
  {
   "cell_type": "markdown",
   "metadata": {
    "id": "S5aOC7bGr2OX"
   },
   "source": [
    "# For Every Year Show which Country was in the Lead in terms of Total Number of Launches up to and including including 2020)\n",
    "\n",
    "Do the results change if we only look at the number of successful launches? "
   ]
  },
  {
   "cell_type": "code",
   "execution_count": null,
   "metadata": {
    "id": "_h0grIXKsOz_"
   },
   "outputs": [],
   "source": []
  },
  {
   "cell_type": "code",
   "execution_count": null,
   "metadata": {
    "id": "zgVysedmsOp4"
   },
   "outputs": [],
   "source": []
  },
  {
   "cell_type": "markdown",
   "metadata": {
    "id": "jQcqBfJ8serG"
   },
   "source": [
    "# Create a Year-on-Year Chart Showing the Organisation Doing the Most Number of Launches\n",
    "\n",
    "Which organisation was dominant in the 1970s and 1980s? Which organisation was dominant in 2018, 2019 and 2020? "
   ]
  },
  {
   "cell_type": "code",
   "execution_count": null,
   "metadata": {
    "id": "jc9ImQEWsztG"
   },
   "outputs": [],
   "source": []
  },
  {
   "cell_type": "code",
   "execution_count": null,
   "metadata": {
    "id": "r5frxzwlsz5W"
   },
   "outputs": [],
   "source": []
  },
  {
   "cell_type": "code",
   "execution_count": null,
   "metadata": {
    "id": "8vHKpuc5a-rc",
    "papermill": {
     "duration": 0.092403,
     "end_time": "2020-10-20T21:34:26.709168",
     "exception": false,
     "start_time": "2020-10-20T21:34:26.616765",
     "status": "completed"
    },
    "tags": []
   },
   "outputs": [],
   "source": []
  }
 ],
 "metadata": {
  "colab": {
   "name": "Space Missions Analysis (start).ipynb",
   "provenance": []
  },
  "kernelspec": {
   "display_name": "Python 3 (ipykernel)",
   "language": "python",
   "name": "python3"
  },
  "language_info": {
   "codemirror_mode": {
    "name": "ipython",
    "version": 3
   },
   "file_extension": ".py",
   "mimetype": "text/x-python",
   "name": "python",
   "nbconvert_exporter": "python",
   "pygments_lexer": "ipython3",
   "version": "3.10.9"
  },
  "papermill": {
   "duration": 28.468597,
   "end_time": "2020-10-20T21:34:26.910951",
   "environment_variables": {},
   "exception": null,
   "input_path": "__notebook__.ipynb",
   "output_path": "__notebook__.ipynb",
   "parameters": {},
   "start_time": "2020-10-20T21:33:58.442354",
   "version": "2.1.0"
  }
 },
 "nbformat": 4,
 "nbformat_minor": 4
}
